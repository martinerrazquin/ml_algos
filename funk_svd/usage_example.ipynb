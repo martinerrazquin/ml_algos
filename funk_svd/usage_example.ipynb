{
 "cells": [
  {
   "cell_type": "code",
   "execution_count": 49,
   "id": "b6c32735",
   "metadata": {},
   "outputs": [],
   "source": [
    "from funk_svd import *\n",
    "from tqdm import tqdm\n",
    "from sklearn.model_selection import train_test_split\n",
    "from sklearn.preprocessing import OrdinalEncoder"
   ]
  },
  {
   "cell_type": "markdown",
   "id": "f84488c0",
   "metadata": {},
   "source": [
    "Using the [MovieLens 10M](https://grouplens.org/datasets/movielens/10m/) ratings file for comparison"
   ]
  },
  {
   "cell_type": "code",
   "execution_count": 2,
   "id": "e7c90c35",
   "metadata": {},
   "outputs": [
    {
     "data": {
      "text/html": [
       "<div>\n",
       "<style scoped>\n",
       "    .dataframe tbody tr th:only-of-type {\n",
       "        vertical-align: middle;\n",
       "    }\n",
       "\n",
       "    .dataframe tbody tr th {\n",
       "        vertical-align: top;\n",
       "    }\n",
       "\n",
       "    .dataframe thead th {\n",
       "        text-align: right;\n",
       "    }\n",
       "</style>\n",
       "<table border=\"1\" class=\"dataframe\">\n",
       "  <thead>\n",
       "    <tr style=\"text-align: right;\">\n",
       "      <th></th>\n",
       "      <th>userId</th>\n",
       "      <th>movieId</th>\n",
       "      <th>rating</th>\n",
       "      <th>timestamp</th>\n",
       "    </tr>\n",
       "  </thead>\n",
       "  <tbody>\n",
       "    <tr>\n",
       "      <th>0</th>\n",
       "      <td>1</td>\n",
       "      <td>122</td>\n",
       "      <td>5.0</td>\n",
       "      <td>838985046</td>\n",
       "    </tr>\n",
       "    <tr>\n",
       "      <th>1</th>\n",
       "      <td>1</td>\n",
       "      <td>185</td>\n",
       "      <td>5.0</td>\n",
       "      <td>838983525</td>\n",
       "    </tr>\n",
       "    <tr>\n",
       "      <th>2</th>\n",
       "      <td>1</td>\n",
       "      <td>231</td>\n",
       "      <td>5.0</td>\n",
       "      <td>838983392</td>\n",
       "    </tr>\n",
       "    <tr>\n",
       "      <th>3</th>\n",
       "      <td>1</td>\n",
       "      <td>292</td>\n",
       "      <td>5.0</td>\n",
       "      <td>838983421</td>\n",
       "    </tr>\n",
       "    <tr>\n",
       "      <th>4</th>\n",
       "      <td>1</td>\n",
       "      <td>316</td>\n",
       "      <td>5.0</td>\n",
       "      <td>838983392</td>\n",
       "    </tr>\n",
       "  </tbody>\n",
       "</table>\n",
       "</div>"
      ],
      "text/plain": [
       "   userId  movieId  rating  timestamp\n",
       "0       1      122     5.0  838985046\n",
       "1       1      185     5.0  838983525\n",
       "2       1      231     5.0  838983392\n",
       "3       1      292     5.0  838983421\n",
       "4       1      316     5.0  838983392"
      ]
     },
     "execution_count": 2,
     "metadata": {},
     "output_type": "execute_result"
    }
   ],
   "source": [
    "df = pd.read_csv(\"data/movielens-10m-ratings.dat\")\n",
    "df.head()"
   ]
  },
  {
   "cell_type": "code",
   "execution_count": 5,
   "id": "fb746ed2",
   "metadata": {},
   "outputs": [
    {
     "name": "stdout",
     "output_type": "stream",
     "text": [
      "For label 'userId' there's a 0.0000% of unrepresented labels in validation set (total of 0)\n",
      "For label 'movieId' there's a 0.0025% of unrepresented labels in validation set (total of 74)\n"
     ]
    }
   ],
   "source": [
    "RNG_SEED = 6552\n",
    "test_size = 0.3\n",
    "df_train, df_valid = train_test_split(df,\n",
    "                                     test_size=test_size, \n",
    "                                     random_state=RNG_SEED)\n",
    "\n",
    "def unrepresented_fraction(label):\n",
    "  unrepr_label = set(df_valid[label].unique()) - set(df_train[label].unique())\n",
    "  len_total = len(df_valid)\n",
    "  len_unrepr = len(df_valid[df_valid[label].isin(unrepr_label)])\n",
    "  print(f\"For label '{label}' there's a {len_unrepr/len_total*100:.4f}% of unrepresented\",\n",
    "        f\"labels in validation set (total of {len_unrepr})\")\n",
    "\n",
    "\n",
    "# number of users and items not covered in train set (untrainable)\n",
    "unrepresented_fraction(\"userId\")\n",
    "unrepresented_fraction(\"movieId\")"
   ]
  },
  {
   "cell_type": "code",
   "execution_count": 6,
   "id": "e9aa69ea",
   "metadata": {},
   "outputs": [
    {
     "name": "stdout",
     "output_type": "stream",
     "text": [
      "rows before: 7000037 3000017\n",
      "rows after 7000037 2999943\n"
     ]
    }
   ],
   "source": [
    "# drop unrepresented items, they're a tiny minority\n",
    "print(\"rows before:\",len(df_train), len(df_valid))\n",
    "df_valid = df_valid[df_valid.movieId.isin(df_train.movieId.unique())]\n",
    "assert set(df_valid.movieId.unique()) <= set(df_train.movieId.unique())\n",
    "print(\"rows after\",len(df_train), len(df_valid))"
   ]
  },
  {
   "cell_type": "code",
   "execution_count": 42,
   "id": "12a3dcd1",
   "metadata": {},
   "outputs": [
    {
     "data": {
      "text/html": [
       "<div>\n",
       "<style scoped>\n",
       "    .dataframe tbody tr th:only-of-type {\n",
       "        vertical-align: middle;\n",
       "    }\n",
       "\n",
       "    .dataframe tbody tr th {\n",
       "        vertical-align: top;\n",
       "    }\n",
       "\n",
       "    .dataframe thead th {\n",
       "        text-align: right;\n",
       "    }\n",
       "</style>\n",
       "<table border=\"1\" class=\"dataframe\">\n",
       "  <thead>\n",
       "    <tr style=\"text-align: right;\">\n",
       "      <th></th>\n",
       "      <th>userId</th>\n",
       "      <th>movieId</th>\n",
       "      <th>rating</th>\n",
       "      <th>timestamp</th>\n",
       "    </tr>\n",
       "  </thead>\n",
       "  <tbody>\n",
       "    <tr>\n",
       "      <th>5558682</th>\n",
       "      <td>39689</td>\n",
       "      <td>55286</td>\n",
       "      <td>4.0</td>\n",
       "      <td>1207765403</td>\n",
       "    </tr>\n",
       "    <tr>\n",
       "      <th>1837122</th>\n",
       "      <td>13467</td>\n",
       "      <td>2761</td>\n",
       "      <td>5.0</td>\n",
       "      <td>950110817</td>\n",
       "    </tr>\n",
       "    <tr>\n",
       "      <th>8278964</th>\n",
       "      <td>59452</td>\n",
       "      <td>5952</td>\n",
       "      <td>5.0</td>\n",
       "      <td>1045889338</td>\n",
       "    </tr>\n",
       "    <tr>\n",
       "      <th>2445163</th>\n",
       "      <td>17747</td>\n",
       "      <td>8208</td>\n",
       "      <td>4.5</td>\n",
       "      <td>1199591770</td>\n",
       "    </tr>\n",
       "    <tr>\n",
       "      <th>2552517</th>\n",
       "      <td>18481</td>\n",
       "      <td>1939</td>\n",
       "      <td>3.0</td>\n",
       "      <td>1005516054</td>\n",
       "    </tr>\n",
       "  </tbody>\n",
       "</table>\n",
       "</div>"
      ],
      "text/plain": [
       "         userId  movieId  rating   timestamp\n",
       "5558682   39689    55286     4.0  1207765403\n",
       "1837122   13467     2761     5.0   950110817\n",
       "8278964   59452     5952     5.0  1045889338\n",
       "2445163   17747     8208     4.5  1199591770\n",
       "2552517   18481     1939     3.0  1005516054"
      ]
     },
     "execution_count": 42,
     "metadata": {},
     "output_type": "execute_result"
    }
   ],
   "source": [
    "# doing this for later visual inspection\n",
    "df_train.head()"
   ]
  },
  {
   "cell_type": "code",
   "execution_count": 43,
   "id": "f06b2a3d",
   "metadata": {},
   "outputs": [
    {
     "data": {
      "text/html": [
       "<div>\n",
       "<style scoped>\n",
       "    .dataframe tbody tr th:only-of-type {\n",
       "        vertical-align: middle;\n",
       "    }\n",
       "\n",
       "    .dataframe tbody tr th {\n",
       "        vertical-align: top;\n",
       "    }\n",
       "\n",
       "    .dataframe thead th {\n",
       "        text-align: right;\n",
       "    }\n",
       "</style>\n",
       "<table border=\"1\" class=\"dataframe\">\n",
       "  <thead>\n",
       "    <tr style=\"text-align: right;\">\n",
       "      <th></th>\n",
       "      <th>userId</th>\n",
       "      <th>movieId</th>\n",
       "      <th>rating</th>\n",
       "      <th>timestamp</th>\n",
       "    </tr>\n",
       "  </thead>\n",
       "  <tbody>\n",
       "    <tr>\n",
       "      <th>7894872</th>\n",
       "      <td>56641</td>\n",
       "      <td>1468</td>\n",
       "      <td>3.0</td>\n",
       "      <td>865785103</td>\n",
       "    </tr>\n",
       "    <tr>\n",
       "      <th>2201559</th>\n",
       "      <td>16049</td>\n",
       "      <td>231</td>\n",
       "      <td>2.0</td>\n",
       "      <td>840088503</td>\n",
       "    </tr>\n",
       "    <tr>\n",
       "      <th>9727275</th>\n",
       "      <td>69709</td>\n",
       "      <td>1188</td>\n",
       "      <td>2.0</td>\n",
       "      <td>988326852</td>\n",
       "    </tr>\n",
       "    <tr>\n",
       "      <th>9597683</th>\n",
       "      <td>68800</td>\n",
       "      <td>2959</td>\n",
       "      <td>4.0</td>\n",
       "      <td>1111488634</td>\n",
       "    </tr>\n",
       "    <tr>\n",
       "      <th>6808628</th>\n",
       "      <td>48680</td>\n",
       "      <td>1356</td>\n",
       "      <td>4.0</td>\n",
       "      <td>900824583</td>\n",
       "    </tr>\n",
       "  </tbody>\n",
       "</table>\n",
       "</div>"
      ],
      "text/plain": [
       "         userId  movieId  rating   timestamp\n",
       "7894872   56641     1468     3.0   865785103\n",
       "2201559   16049      231     2.0   840088503\n",
       "9727275   69709     1188     2.0   988326852\n",
       "9597683   68800     2959     4.0  1111488634\n",
       "6808628   48680     1356     4.0   900824583"
      ]
     },
     "execution_count": 43,
     "metadata": {},
     "output_type": "execute_result"
    }
   ],
   "source": [
    "df_valid.head()"
   ]
  },
  {
   "cell_type": "markdown",
   "id": "e78fbd13",
   "metadata": {},
   "source": [
    "Now we need to make *userId* and *movieId* range from 0 to n-1 and m-1 respectively, otherwise map them"
   ]
  },
  {
   "cell_type": "code",
   "execution_count": 9,
   "id": "0699248e",
   "metadata": {},
   "outputs": [
    {
     "data": {
      "text/plain": [
       "(69878, 71567)"
      ]
     },
     "execution_count": 9,
     "metadata": {},
     "output_type": "execute_result"
    }
   ],
   "source": [
    "# check that users represent a contiguous segment from x to x+n\n",
    "unique_users = df_train.userId.unique()\n",
    "len(unique_users),unique_users.max() - unique_users.min() + 1 "
   ]
  },
  {
   "cell_type": "code",
   "execution_count": 10,
   "id": "e08570af",
   "metadata": {},
   "outputs": [
    {
     "data": {
      "text/plain": [
       "(10631, 65133)"
      ]
     },
     "execution_count": 10,
     "metadata": {},
     "output_type": "execute_result"
    }
   ],
   "source": [
    "# check that items represent a contiguous segment from y to y+m\n",
    "unique_items = df_train.movieId.unique()\n",
    "len(unique_items),unique_items.max() - unique_items.min() + 1"
   ]
  },
  {
   "cell_type": "code",
   "execution_count": 12,
   "id": "d190e568",
   "metadata": {},
   "outputs": [
    {
     "data": {
      "text/plain": [
       "(array([69877, 10630]), array([69877, 10630]))"
      ]
     },
     "execution_count": 12,
     "metadata": {},
     "output_type": "execute_result"
    }
   ],
   "source": [
    "# lazy preprocessing\n",
    "oe = OrdinalEncoder(dtype=int)\n",
    "\n",
    "train_features = oe.fit_transform(df_train[[\"userId\", \"movieId\"]])\n",
    "valid_features = oe.transform(df_valid[[\"userId\", \"movieId\"]])\n",
    "\n",
    "train_features.max(axis=0), valid_features.max(axis=0)"
   ]
  },
  {
   "cell_type": "code",
   "execution_count": 41,
   "id": "73011fa4",
   "metadata": {},
   "outputs": [
    {
     "data": {
      "text/html": [
       "<div>\n",
       "<style scoped>\n",
       "    .dataframe tbody tr th:only-of-type {\n",
       "        vertical-align: middle;\n",
       "    }\n",
       "\n",
       "    .dataframe tbody tr th {\n",
       "        vertical-align: top;\n",
       "    }\n",
       "\n",
       "    .dataframe thead th {\n",
       "        text-align: right;\n",
       "    }\n",
       "</style>\n",
       "<table border=\"1\" class=\"dataframe\">\n",
       "  <thead>\n",
       "    <tr style=\"text-align: right;\">\n",
       "      <th></th>\n",
       "      <th>user</th>\n",
       "      <th>item</th>\n",
       "      <th>rating</th>\n",
       "    </tr>\n",
       "  </thead>\n",
       "  <tbody>\n",
       "    <tr>\n",
       "      <th>0</th>\n",
       "      <td>38740</td>\n",
       "      <td>10010</td>\n",
       "      <td>4.0</td>\n",
       "    </tr>\n",
       "    <tr>\n",
       "      <th>1</th>\n",
       "      <td>13112</td>\n",
       "      <td>2675</td>\n",
       "      <td>5.0</td>\n",
       "    </tr>\n",
       "    <tr>\n",
       "      <th>2</th>\n",
       "      <td>58138</td>\n",
       "      <td>5845</td>\n",
       "      <td>5.0</td>\n",
       "    </tr>\n",
       "    <tr>\n",
       "      <th>3</th>\n",
       "      <td>17278</td>\n",
       "      <td>7677</td>\n",
       "      <td>4.5</td>\n",
       "    </tr>\n",
       "    <tr>\n",
       "      <th>4</th>\n",
       "      <td>17991</td>\n",
       "      <td>1854</td>\n",
       "      <td>3.0</td>\n",
       "    </tr>\n",
       "  </tbody>\n",
       "</table>\n",
       "</div>"
      ],
      "text/plain": [
       "    user   item  rating\n",
       "0  38740  10010     4.0\n",
       "1  13112   2675     5.0\n",
       "2  58138   5845     5.0\n",
       "3  17278   7677     4.5\n",
       "4  17991   1854     3.0"
      ]
     },
     "execution_count": 41,
     "metadata": {},
     "output_type": "execute_result"
    }
   ],
   "source": [
    "R_train = pd.DataFrame(train_features, columns=[\"user\",\"item\"])\n",
    "R_train[\"rating\"] = df_train[\"rating\"].reset_index(drop=True)\n",
    "R_train.head()"
   ]
  },
  {
   "cell_type": "code",
   "execution_count": 44,
   "id": "3cda2087",
   "metadata": {},
   "outputs": [
    {
     "data": {
      "text/html": [
       "<div>\n",
       "<style scoped>\n",
       "    .dataframe tbody tr th:only-of-type {\n",
       "        vertical-align: middle;\n",
       "    }\n",
       "\n",
       "    .dataframe tbody tr th {\n",
       "        vertical-align: top;\n",
       "    }\n",
       "\n",
       "    .dataframe thead th {\n",
       "        text-align: right;\n",
       "    }\n",
       "</style>\n",
       "<table border=\"1\" class=\"dataframe\">\n",
       "  <thead>\n",
       "    <tr style=\"text-align: right;\">\n",
       "      <th></th>\n",
       "      <th>user</th>\n",
       "      <th>item</th>\n",
       "      <th>rating</th>\n",
       "    </tr>\n",
       "  </thead>\n",
       "  <tbody>\n",
       "    <tr>\n",
       "      <th>0</th>\n",
       "      <td>55378</td>\n",
       "      <td>1431</td>\n",
       "      <td>3.0</td>\n",
       "    </tr>\n",
       "    <tr>\n",
       "      <th>1</th>\n",
       "      <td>15628</td>\n",
       "      <td>228</td>\n",
       "      <td>2.0</td>\n",
       "    </tr>\n",
       "    <tr>\n",
       "      <th>2</th>\n",
       "      <td>68093</td>\n",
       "      <td>1164</td>\n",
       "      <td>2.0</td>\n",
       "    </tr>\n",
       "    <tr>\n",
       "      <th>3</th>\n",
       "      <td>67222</td>\n",
       "      <td>2873</td>\n",
       "      <td>4.0</td>\n",
       "    </tr>\n",
       "    <tr>\n",
       "      <th>4</th>\n",
       "      <td>47556</td>\n",
       "      <td>1326</td>\n",
       "      <td>4.0</td>\n",
       "    </tr>\n",
       "  </tbody>\n",
       "</table>\n",
       "</div>"
      ],
      "text/plain": [
       "    user  item  rating\n",
       "0  55378  1431     3.0\n",
       "1  15628   228     2.0\n",
       "2  68093  1164     2.0\n",
       "3  67222  2873     4.0\n",
       "4  47556  1326     4.0"
      ]
     },
     "execution_count": 44,
     "metadata": {},
     "output_type": "execute_result"
    }
   ],
   "source": [
    "R_valid = pd.DataFrame(valid_features, columns=[\"user\",\"item\"])\n",
    "R_valid[\"rating\"] = df_valid[\"rating\"].reset_index(drop=True)\n",
    "R_valid.head()"
   ]
  },
  {
   "cell_type": "code",
   "execution_count": 46,
   "id": "e5dbe0f0",
   "metadata": {},
   "outputs": [
    {
     "name": "stdout",
     "output_type": "stream",
     "text": [
      "Global train-set rating mean is 3.512543505127187\n",
      "Global avg has MSE: 1.125\n"
     ]
    }
   ],
   "source": [
    "# ultra baseline model\n",
    "global_avg = R_train.rating.mean()\n",
    "\n",
    "print(f\"Global train-set rating mean is {global_avg}\")\n",
    "\n",
    "MSE_global_avg = np.mean((R_valid.rating - global_avg)**2)\n",
    "\n",
    "print(f\"Global avg has MSE: {MSE_global_avg:.3f}\")"
   ]
  },
  {
   "cell_type": "code",
   "execution_count": 68,
   "id": "7c90b3b0",
   "metadata": {},
   "outputs": [
    {
     "name": "stderr",
     "output_type": "stream",
     "text": [
      "100%|████████████████████████████████████████████████████████████████████| 2999943/2999943 [00:09<00:00, 324844.90it/s]"
     ]
    },
    {
     "name": "stdout",
     "output_type": "stream",
     "text": [
      "Offsets model has MSE: 0.786\n"
     ]
    },
    {
     "name": "stderr",
     "output_type": "stream",
     "text": [
      "\n"
     ]
    }
   ],
   "source": [
    "# get MSE for baseline model that predicts rating with typical global+user_offset+item_offset\n",
    "n = R_train.user.max() + 1\n",
    "m = R_train.item.max() + 1 \n",
    "\n",
    "# this is more numerically stable than incremental formula for average (with 1/n+1 coeff)\n",
    "item_offsets = R_train.groupby(\"item\").agg({\"rating\":\"mean\"}).rating.to_numpy() - global_avg\n",
    "user_offsets = R_train.groupby(\"user\").agg({\"rating\":\"mean\"}).rating.to_numpy() - global_avg\n",
    "\n",
    "# estimate MSE as RSS/rows\n",
    "RSS = 0\n",
    "for user, item, rating in tqdm(R_valid.itertuples(index=False, name=None),total=len(R_valid)):\n",
    "  prediction = global_avg + item_offsets[item] + user_offsets[user]\n",
    "  RSS += (rating - prediction)**2\n",
    "\n",
    "MSE_offsets = RSS / len(R_valid)\n",
    "print(f\"Offsets model has MSE: {MSE_offsets:.3f}\")"
   ]
  },
  {
   "cell_type": "code",
   "execution_count": 76,
   "id": "b96f8044",
   "metadata": {},
   "outputs": [
    {
     "name": "stdout",
     "output_type": "stream",
     "text": [
      "Wall time: 25min 10s\n"
     ]
    }
   ],
   "source": [
    "%%time\n",
    "# now the MF model with some random params\n",
    "mf1 = FunkSVD(k=5, lda=0.3)\n",
    "\n",
    "mf1.fit(\n",
    "    R_train = R_train,\n",
    "    R_valid = R_valid,\n",
    "    rng_seed = RNG_SEED,\n",
    "    min_iters = 4,\n",
    "    max_iters = 10,\n",
    "    mse_threshold = 0.02,\n",
    "    debug = False\n",
    ")"
   ]
  },
  {
   "cell_type": "code",
   "execution_count": 77,
   "id": "702aec29",
   "metadata": {},
   "outputs": [
    {
     "name": "stdout",
     "output_type": "stream",
     "text": [
      "Nº iter\t\tLoss(train)\t\tMSE(valid)\n",
      "   1\t\t6231134.4451\t\t   0.8167\n",
      "   2\t\t5709939.2988\t\t   0.7738\n",
      "   3\t\t5389904.5376\t\t   0.7282\n",
      "   4\t\t5137864.2093\t\t   0.6927\n",
      "   5\t\t5012490.6534\t\t   0.6777\n",
      "   6\t\t4951487.7723\t\t   0.6723\n"
     ]
    }
   ],
   "source": [
    "mf1.summary()"
   ]
  },
  {
   "cell_type": "code",
   "execution_count": 79,
   "id": "183c9d5d",
   "metadata": {},
   "outputs": [
    {
     "data": {
      "image/png": "[encoded data removed]",
      "text/plain": [
       "<Figure size 720x576 with 2 Axes>"
      ]
     },
     "metadata": {
      "needs_background": "light"
     },
     "output_type": "display_data"
    }
   ],
   "source": [
    "mf1.plot_metrics()\n",
    "plt.show()"
   ]
  },
  {
   "cell_type": "code",
   "execution_count": 80,
   "id": "8d69f6e4",
   "metadata": {},
   "outputs": [
    {
     "name": "stdout",
     "output_type": "stream",
     "text": [
      "Estimated RSS is 4110539.017\n",
      "Estimated MSE is 0.587\n"
     ]
    },
    {
     "data": {
      "text/plain": [
       "0.5872167557472069"
      ]
     },
     "execution_count": 80,
     "metadata": {},
     "output_type": "execute_result"
    }
   ],
   "source": [
    "mf1._estimate_MSE(R_train)"
   ]
  },
  {
   "cell_type": "markdown",
   "id": "900b2b3d",
   "metadata": {},
   "source": [
    "Some key insights:\n",
    "* The model generalizes *very* well as MSE on train set is ~0.587 and MSE on validation set is ~0.672 with both curves having the expected shape for a well-behaving predictor\n",
    "* It took only 2 rounds of ALS for this model to do better than the offsets one on the validation set\n",
    "* Model fitting takes way too much time because of readability prioritization, making a multiprocessing-ready version with sharedmem-backed U and V may provide great improvements in this area (Numba at the time has too many support problems regarding dicts and lists -namely O_is and O_js-)"
   ]
  }
 ],
 "metadata": {
  "kernelspec": {
   "display_name": "Python 3 (ipykernel)",
   "language": "python",
   "name": "python3"
  },
  "language_info": {
   "codemirror_mode": {
    "name": "ipython",
    "version": 3
   },
   "file_extension": ".py",
   "mimetype": "text/x-python",
   "name": "python",
   "nbconvert_exporter": "python",
   "pygments_lexer": "ipython3",
   "version": "3.8.12"
  }
 },
 "nbformat": 4,
 "nbformat_minor": 5
}
