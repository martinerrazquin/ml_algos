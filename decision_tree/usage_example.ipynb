{
 "cells": [
  {
   "cell_type": "code",
   "execution_count": 20,
   "id": "b6c32735",
   "metadata": {},
   "outputs": [],
   "source": [
    "from dec_tree import ClassifierTree, NUM_KIND, CAT_KIND\n",
    "import pandas as pd\n",
    "from sklearn.model_selection import train_test_split\n",
    "from sklearn.preprocessing import OrdinalEncoder, OneHotEncoder\n",
    "from sklearn.compose import ColumnTransformer\n",
    "from sklearn.metrics import f1_score, roc_auc_score\n",
    "from sklearn.tree import DecisionTreeClassifier"
   ]
  },
  {
   "cell_type": "markdown",
   "id": "f84488c0",
   "metadata": {},
   "source": [
    "Using the WeatherAUS dataset for comparison"
   ]
  },
  {
   "cell_type": "code",
   "execution_count": 11,
   "id": "e7c90c35",
   "metadata": {},
   "outputs": [
    {
     "data": {
      "text/html": [
       "<div>\n",
       "<style scoped>\n",
       "    .dataframe tbody tr th:only-of-type {\n",
       "        vertical-align: middle;\n",
       "    }\n",
       "\n",
       "    .dataframe tbody tr th {\n",
       "        vertical-align: top;\n",
       "    }\n",
       "\n",
       "    .dataframe thead th {\n",
       "        text-align: right;\n",
       "    }\n",
       "</style>\n",
       "<table border=\"1\" class=\"dataframe\">\n",
       "  <thead>\n",
       "    <tr style=\"text-align: right;\">\n",
       "      <th></th>\n",
       "      <th>Date</th>\n",
       "      <th>Location</th>\n",
       "      <th>MinTemp</th>\n",
       "      <th>MaxTemp</th>\n",
       "      <th>Rainfall</th>\n",
       "      <th>Evaporation</th>\n",
       "      <th>Sunshine</th>\n",
       "      <th>WindGustDir</th>\n",
       "      <th>WindGustSpeed</th>\n",
       "      <th>WindDir9am</th>\n",
       "      <th>...</th>\n",
       "      <th>Humidity3pm</th>\n",
       "      <th>Pressure9am</th>\n",
       "      <th>Pressure3pm</th>\n",
       "      <th>Cloud9am</th>\n",
       "      <th>Cloud3pm</th>\n",
       "      <th>Temp9am</th>\n",
       "      <th>Temp3pm</th>\n",
       "      <th>RainToday</th>\n",
       "      <th>RISK_MM</th>\n",
       "      <th>RainTomorrow</th>\n",
       "    </tr>\n",
       "  </thead>\n",
       "  <tbody>\n",
       "    <tr>\n",
       "      <th>5939</th>\n",
       "      <td>2009-01-01</td>\n",
       "      <td>Cobar</td>\n",
       "      <td>17.9</td>\n",
       "      <td>35.2</td>\n",
       "      <td>0.0</td>\n",
       "      <td>12.0</td>\n",
       "      <td>12.3</td>\n",
       "      <td>SSW</td>\n",
       "      <td>48.0</td>\n",
       "      <td>ENE</td>\n",
       "      <td>...</td>\n",
       "      <td>13.0</td>\n",
       "      <td>1006.3</td>\n",
       "      <td>1004.4</td>\n",
       "      <td>2.0</td>\n",
       "      <td>5.0</td>\n",
       "      <td>26.6</td>\n",
       "      <td>33.4</td>\n",
       "      <td>No</td>\n",
       "      <td>0.0</td>\n",
       "      <td>No</td>\n",
       "    </tr>\n",
       "    <tr>\n",
       "      <th>5940</th>\n",
       "      <td>2009-01-02</td>\n",
       "      <td>Cobar</td>\n",
       "      <td>18.4</td>\n",
       "      <td>28.9</td>\n",
       "      <td>0.0</td>\n",
       "      <td>14.8</td>\n",
       "      <td>13.0</td>\n",
       "      <td>S</td>\n",
       "      <td>37.0</td>\n",
       "      <td>SSE</td>\n",
       "      <td>...</td>\n",
       "      <td>8.0</td>\n",
       "      <td>1012.9</td>\n",
       "      <td>1012.1</td>\n",
       "      <td>1.0</td>\n",
       "      <td>1.0</td>\n",
       "      <td>20.3</td>\n",
       "      <td>27.0</td>\n",
       "      <td>No</td>\n",
       "      <td>0.0</td>\n",
       "      <td>No</td>\n",
       "    </tr>\n",
       "    <tr>\n",
       "      <th>5942</th>\n",
       "      <td>2009-01-04</td>\n",
       "      <td>Cobar</td>\n",
       "      <td>19.4</td>\n",
       "      <td>37.6</td>\n",
       "      <td>0.0</td>\n",
       "      <td>10.8</td>\n",
       "      <td>10.6</td>\n",
       "      <td>NNE</td>\n",
       "      <td>46.0</td>\n",
       "      <td>NNE</td>\n",
       "      <td>...</td>\n",
       "      <td>22.0</td>\n",
       "      <td>1012.3</td>\n",
       "      <td>1009.2</td>\n",
       "      <td>1.0</td>\n",
       "      <td>6.0</td>\n",
       "      <td>28.7</td>\n",
       "      <td>34.9</td>\n",
       "      <td>No</td>\n",
       "      <td>0.0</td>\n",
       "      <td>No</td>\n",
       "    </tr>\n",
       "    <tr>\n",
       "      <th>5943</th>\n",
       "      <td>2009-01-05</td>\n",
       "      <td>Cobar</td>\n",
       "      <td>21.9</td>\n",
       "      <td>38.4</td>\n",
       "      <td>0.0</td>\n",
       "      <td>11.4</td>\n",
       "      <td>12.2</td>\n",
       "      <td>WNW</td>\n",
       "      <td>31.0</td>\n",
       "      <td>WNW</td>\n",
       "      <td>...</td>\n",
       "      <td>22.0</td>\n",
       "      <td>1012.7</td>\n",
       "      <td>1009.1</td>\n",
       "      <td>1.0</td>\n",
       "      <td>5.0</td>\n",
       "      <td>29.1</td>\n",
       "      <td>35.6</td>\n",
       "      <td>No</td>\n",
       "      <td>0.0</td>\n",
       "      <td>No</td>\n",
       "    </tr>\n",
       "    <tr>\n",
       "      <th>5944</th>\n",
       "      <td>2009-01-06</td>\n",
       "      <td>Cobar</td>\n",
       "      <td>24.2</td>\n",
       "      <td>41.0</td>\n",
       "      <td>0.0</td>\n",
       "      <td>11.2</td>\n",
       "      <td>8.4</td>\n",
       "      <td>WNW</td>\n",
       "      <td>35.0</td>\n",
       "      <td>NW</td>\n",
       "      <td>...</td>\n",
       "      <td>15.0</td>\n",
       "      <td>1010.7</td>\n",
       "      <td>1007.4</td>\n",
       "      <td>1.0</td>\n",
       "      <td>6.0</td>\n",
       "      <td>33.6</td>\n",
       "      <td>37.6</td>\n",
       "      <td>No</td>\n",
       "      <td>0.0</td>\n",
       "      <td>No</td>\n",
       "    </tr>\n",
       "  </tbody>\n",
       "</table>\n",
       "<p>5 rows × 24 columns</p>\n",
       "</div>"
      ],
      "text/plain": [
       "            Date Location  MinTemp  MaxTemp  Rainfall  Evaporation  Sunshine  \\\n",
       "5939  2009-01-01    Cobar     17.9     35.2       0.0         12.0      12.3   \n",
       "5940  2009-01-02    Cobar     18.4     28.9       0.0         14.8      13.0   \n",
       "5942  2009-01-04    Cobar     19.4     37.6       0.0         10.8      10.6   \n",
       "5943  2009-01-05    Cobar     21.9     38.4       0.0         11.4      12.2   \n",
       "5944  2009-01-06    Cobar     24.2     41.0       0.0         11.2       8.4   \n",
       "\n",
       "     WindGustDir  WindGustSpeed WindDir9am  ... Humidity3pm  Pressure9am  \\\n",
       "5939         SSW           48.0        ENE  ...        13.0       1006.3   \n",
       "5940           S           37.0        SSE  ...         8.0       1012.9   \n",
       "5942         NNE           46.0        NNE  ...        22.0       1012.3   \n",
       "5943         WNW           31.0        WNW  ...        22.0       1012.7   \n",
       "5944         WNW           35.0         NW  ...        15.0       1010.7   \n",
       "\n",
       "      Pressure3pm  Cloud9am  Cloud3pm  Temp9am  Temp3pm  RainToday  RISK_MM  \\\n",
       "5939       1004.4       2.0       5.0     26.6     33.4         No      0.0   \n",
       "5940       1012.1       1.0       1.0     20.3     27.0         No      0.0   \n",
       "5942       1009.2       1.0       6.0     28.7     34.9         No      0.0   \n",
       "5943       1009.1       1.0       5.0     29.1     35.6         No      0.0   \n",
       "5944       1007.4       1.0       6.0     33.6     37.6         No      0.0   \n",
       "\n",
       "      RainTomorrow  \n",
       "5939            No  \n",
       "5940            No  \n",
       "5942            No  \n",
       "5943            No  \n",
       "5944            No  \n",
       "\n",
       "[5 rows x 24 columns]"
      ]
     },
     "execution_count": 11,
     "metadata": {},
     "output_type": "execute_result"
    }
   ],
   "source": [
    "df = pd.read_csv(\"data/weatherAUS.csv\").dropna()\n",
    "df.head()"
   ]
  },
  {
   "cell_type": "code",
   "execution_count": 12,
   "id": "2321a0c6",
   "metadata": {},
   "outputs": [],
   "source": [
    "# dropping leaky var and Date\n",
    "df.drop(columns=['RISK_MM', 'Date'],inplace=True)"
   ]
  },
  {
   "cell_type": "code",
   "execution_count": 13,
   "id": "191c0dec",
   "metadata": {},
   "outputs": [],
   "source": [
    "# encode binary vars as bool\n",
    "df['RainToday'] = (df['RainToday'] == 'Yes')*1\n",
    "df['RainTomorrow'] = (df['RainTomorrow'] == 'Yes')*1"
   ]
  },
  {
   "cell_type": "code",
   "execution_count": 14,
   "id": "cf3d4038",
   "metadata": {},
   "outputs": [],
   "source": [
    "# train-test split\n",
    "RNG_SEED = 12345\n",
    "TGT_VAR = 'RainTomorrow'\n",
    "X_full = df.drop(columns=[TGT_VAR])\n",
    "y_full = df[TGT_VAR].to_numpy()\n",
    "\n",
    "X_train, X_test, y_train, y_test = train_test_split(X_full, y_full, train_size=0.75, random_state=RNG_SEED)"
   ]
  },
  {
   "cell_type": "code",
   "execution_count": 15,
   "id": "0bd06752",
   "metadata": {},
   "outputs": [
    {
     "data": {
      "text/html": [
       "<div>\n",
       "<style scoped>\n",
       "    .dataframe tbody tr th:only-of-type {\n",
       "        vertical-align: middle;\n",
       "    }\n",
       "\n",
       "    .dataframe tbody tr th {\n",
       "        vertical-align: top;\n",
       "    }\n",
       "\n",
       "    .dataframe thead th {\n",
       "        text-align: right;\n",
       "    }\n",
       "</style>\n",
       "<table border=\"1\" class=\"dataframe\">\n",
       "  <thead>\n",
       "    <tr style=\"text-align: right;\">\n",
       "      <th></th>\n",
       "      <th>Location</th>\n",
       "      <th>MinTemp</th>\n",
       "      <th>MaxTemp</th>\n",
       "      <th>Rainfall</th>\n",
       "      <th>Evaporation</th>\n",
       "      <th>Sunshine</th>\n",
       "      <th>WindGustDir</th>\n",
       "      <th>WindGustSpeed</th>\n",
       "      <th>WindDir9am</th>\n",
       "      <th>WindDir3pm</th>\n",
       "      <th>...</th>\n",
       "      <th>WindSpeed3pm</th>\n",
       "      <th>Humidity9am</th>\n",
       "      <th>Humidity3pm</th>\n",
       "      <th>Pressure9am</th>\n",
       "      <th>Pressure3pm</th>\n",
       "      <th>Cloud9am</th>\n",
       "      <th>Cloud3pm</th>\n",
       "      <th>Temp9am</th>\n",
       "      <th>Temp3pm</th>\n",
       "      <th>RainToday</th>\n",
       "    </tr>\n",
       "  </thead>\n",
       "  <tbody>\n",
       "    <tr>\n",
       "      <th>61393</th>\n",
       "      <td>Sale</td>\n",
       "      <td>6.5</td>\n",
       "      <td>18.7</td>\n",
       "      <td>0.0</td>\n",
       "      <td>5.2</td>\n",
       "      <td>5.5</td>\n",
       "      <td>W</td>\n",
       "      <td>57.0</td>\n",
       "      <td>SW</td>\n",
       "      <td>W</td>\n",
       "      <td>...</td>\n",
       "      <td>30.0</td>\n",
       "      <td>63.0</td>\n",
       "      <td>87.0</td>\n",
       "      <td>1000.8</td>\n",
       "      <td>1001.5</td>\n",
       "      <td>0.0</td>\n",
       "      <td>8.0</td>\n",
       "      <td>15.5</td>\n",
       "      <td>10.8</td>\n",
       "      <td>0</td>\n",
       "    </tr>\n",
       "    <tr>\n",
       "      <th>34006</th>\n",
       "      <td>SydneyAirport</td>\n",
       "      <td>17.9</td>\n",
       "      <td>21.6</td>\n",
       "      <td>11.2</td>\n",
       "      <td>5.0</td>\n",
       "      <td>0.0</td>\n",
       "      <td>SSW</td>\n",
       "      <td>54.0</td>\n",
       "      <td>S</td>\n",
       "      <td>S</td>\n",
       "      <td>...</td>\n",
       "      <td>31.0</td>\n",
       "      <td>94.0</td>\n",
       "      <td>79.0</td>\n",
       "      <td>1023.0</td>\n",
       "      <td>1020.5</td>\n",
       "      <td>8.0</td>\n",
       "      <td>8.0</td>\n",
       "      <td>18.5</td>\n",
       "      <td>19.8</td>\n",
       "      <td>1</td>\n",
       "    </tr>\n",
       "    <tr>\n",
       "      <th>91593</th>\n",
       "      <td>Townsville</td>\n",
       "      <td>22.3</td>\n",
       "      <td>30.4</td>\n",
       "      <td>40.0</td>\n",
       "      <td>5.8</td>\n",
       "      <td>5.7</td>\n",
       "      <td>ENE</td>\n",
       "      <td>39.0</td>\n",
       "      <td>E</td>\n",
       "      <td>ENE</td>\n",
       "      <td>...</td>\n",
       "      <td>28.0</td>\n",
       "      <td>78.0</td>\n",
       "      <td>78.0</td>\n",
       "      <td>1001.9</td>\n",
       "      <td>999.2</td>\n",
       "      <td>6.0</td>\n",
       "      <td>5.0</td>\n",
       "      <td>27.3</td>\n",
       "      <td>28.2</td>\n",
       "      <td>1</td>\n",
       "    </tr>\n",
       "    <tr>\n",
       "      <th>100491</th>\n",
       "      <td>Nuriootpa</td>\n",
       "      <td>4.9</td>\n",
       "      <td>14.5</td>\n",
       "      <td>0.0</td>\n",
       "      <td>2.4</td>\n",
       "      <td>3.1</td>\n",
       "      <td>SE</td>\n",
       "      <td>17.0</td>\n",
       "      <td>NE</td>\n",
       "      <td>WSW</td>\n",
       "      <td>...</td>\n",
       "      <td>15.0</td>\n",
       "      <td>96.0</td>\n",
       "      <td>80.0</td>\n",
       "      <td>1019.9</td>\n",
       "      <td>1017.6</td>\n",
       "      <td>7.0</td>\n",
       "      <td>7.0</td>\n",
       "      <td>9.2</td>\n",
       "      <td>13.2</td>\n",
       "      <td>0</td>\n",
       "    </tr>\n",
       "    <tr>\n",
       "      <th>34819</th>\n",
       "      <td>SydneyAirport</td>\n",
       "      <td>12.1</td>\n",
       "      <td>17.7</td>\n",
       "      <td>6.8</td>\n",
       "      <td>3.2</td>\n",
       "      <td>2.3</td>\n",
       "      <td>SSW</td>\n",
       "      <td>48.0</td>\n",
       "      <td>SSW</td>\n",
       "      <td>S</td>\n",
       "      <td>...</td>\n",
       "      <td>31.0</td>\n",
       "      <td>89.0</td>\n",
       "      <td>75.0</td>\n",
       "      <td>1029.8</td>\n",
       "      <td>1028.4</td>\n",
       "      <td>7.0</td>\n",
       "      <td>7.0</td>\n",
       "      <td>12.8</td>\n",
       "      <td>15.3</td>\n",
       "      <td>1</td>\n",
       "    </tr>\n",
       "  </tbody>\n",
       "</table>\n",
       "<p>5 rows × 21 columns</p>\n",
       "</div>"
      ],
      "text/plain": [
       "             Location  MinTemp  MaxTemp  Rainfall  Evaporation  Sunshine  \\\n",
       "61393            Sale      6.5     18.7       0.0          5.2       5.5   \n",
       "34006   SydneyAirport     17.9     21.6      11.2          5.0       0.0   \n",
       "91593      Townsville     22.3     30.4      40.0          5.8       5.7   \n",
       "100491      Nuriootpa      4.9     14.5       0.0          2.4       3.1   \n",
       "34819   SydneyAirport     12.1     17.7       6.8          3.2       2.3   \n",
       "\n",
       "       WindGustDir  WindGustSpeed WindDir9am WindDir3pm  ...  WindSpeed3pm  \\\n",
       "61393            W           57.0         SW          W  ...          30.0   \n",
       "34006          SSW           54.0          S          S  ...          31.0   \n",
       "91593          ENE           39.0          E        ENE  ...          28.0   \n",
       "100491          SE           17.0         NE        WSW  ...          15.0   \n",
       "34819          SSW           48.0        SSW          S  ...          31.0   \n",
       "\n",
       "        Humidity9am  Humidity3pm  Pressure9am  Pressure3pm  Cloud9am  \\\n",
       "61393          63.0         87.0       1000.8       1001.5       0.0   \n",
       "34006          94.0         79.0       1023.0       1020.5       8.0   \n",
       "91593          78.0         78.0       1001.9        999.2       6.0   \n",
       "100491         96.0         80.0       1019.9       1017.6       7.0   \n",
       "34819          89.0         75.0       1029.8       1028.4       7.0   \n",
       "\n",
       "        Cloud3pm  Temp9am  Temp3pm  RainToday  \n",
       "61393        8.0     15.5     10.8          0  \n",
       "34006        8.0     18.5     19.8          1  \n",
       "91593        5.0     27.3     28.2          1  \n",
       "100491       7.0      9.2     13.2          0  \n",
       "34819        7.0     12.8     15.3          1  \n",
       "\n",
       "[5 rows x 21 columns]"
      ]
     },
     "execution_count": 15,
     "metadata": {},
     "output_type": "execute_result"
    }
   ],
   "source": [
    "# peek at train set\n",
    "X_train.head()"
   ]
  },
  {
   "cell_type": "code",
   "execution_count": 16,
   "id": "cb16931d",
   "metadata": {},
   "outputs": [
    {
     "data": {
      "text/plain": [
       "(4, 17)"
      ]
     },
     "execution_count": 16,
     "metadata": {},
     "output_type": "execute_result"
    }
   ],
   "source": [
    "# discern between cat and num features\n",
    "cat_vars = X_train.dtypes[X_train.dtypes == 'object'].index.to_list()\n",
    "num_vars = X_train.dtypes[(X_train.dtypes == 'float') | (X_train.dtypes == 'int')].index.to_list()\n",
    "assert len(cat_vars)+len(num_vars)==len(X_train.columns)\n",
    "len(cat_vars), len(num_vars)"
   ]
  },
  {
   "cell_type": "markdown",
   "id": "b4f12ee5",
   "metadata": {},
   "source": [
    "## SciKit Learn Baseline\n",
    "\n",
    "* using one-hot encoded categorical vars"
   ]
  },
  {
   "cell_type": "code",
   "execution_count": 19,
   "id": "5e2400cb",
   "metadata": {},
   "outputs": [],
   "source": [
    "preprocessor_onehot = ColumnTransformer(\n",
    "    transformers=[\n",
    "        ('num','passthrough', num_vars),\n",
    "        ('cat', OneHotEncoder(sparse=False,dtype=int), cat_vars)\n",
    "    ]\n",
    ")\n",
    "\n",
    "X_train_one_hot = preprocessor_onehot.fit_transform(X_train)\n",
    "X_test_one_hot = preprocessor_onehot.transform(X_test)"
   ]
  },
  {
   "cell_type": "code",
   "execution_count": 22,
   "id": "26ddc068",
   "metadata": {},
   "outputs": [
    {
     "name": "stdout",
     "output_type": "stream",
     "text": [
      "CPU times: total: 0 ns\n",
      "Wall time: 0 ns\n"
     ]
    }
   ],
   "source": [
    "%%time\n",
    "# SK - init\n",
    "dtc = DecisionTreeClassifier(random_state=RNG_SEED)"
   ]
  },
  {
   "cell_type": "code",
   "execution_count": 23,
   "id": "50c1617d",
   "metadata": {},
   "outputs": [
    {
     "name": "stdout",
     "output_type": "stream",
     "text": [
      "CPU times: total: 1.5 s\n",
      "Wall time: 1.52 s\n"
     ]
    },
    {
     "data": {
      "text/plain": [
       "DecisionTreeClassifier(random_state=12345)"
      ]
     },
     "execution_count": 23,
     "metadata": {},
     "output_type": "execute_result"
    }
   ],
   "source": [
    "%%time\n",
    "# SK - fit\n",
    "dtc.fit(X_train_one_hot, y_train)"
   ]
  },
  {
   "cell_type": "code",
   "execution_count": 24,
   "id": "7d96e813",
   "metadata": {},
   "outputs": [
    {
     "name": "stdout",
     "output_type": "stream",
     "text": [
      "CPU times: total: 15.6 ms\n",
      "Wall time: 26.4 ms\n"
     ]
    }
   ],
   "source": [
    "%%time\n",
    "# SK - predict\n",
    "y_hat_dtc = dtc.predict(X_test_one_hot)"
   ]
  },
  {
   "cell_type": "markdown",
   "id": "9beb9135",
   "metadata": {},
   "source": [
    "## Custom Tree Classifier\n",
    "\n",
    "* using ordinal encoded categorical vars (as they just need to be encoded as numbers, but ignore values)"
   ]
  },
  {
   "cell_type": "code",
   "execution_count": 25,
   "id": "580f1966",
   "metadata": {},
   "outputs": [],
   "source": [
    "preprocessor_ordinal = ColumnTransformer(\n",
    "    transformers=[\n",
    "        ('num','passthrough', num_vars),\n",
    "        ('cat', OrdinalEncoder(dtype=int), cat_vars)\n",
    "    ]\n",
    ")\n",
    "X_train_ordinal = preprocessor_ordinal.fit_transform(X_train)\n",
    "X_test_ordinal = preprocessor_ordinal.transform(X_test)"
   ]
  },
  {
   "cell_type": "code",
   "execution_count": 26,
   "id": "ade78057",
   "metadata": {},
   "outputs": [
    {
     "name": "stdout",
     "output_type": "stream",
     "text": [
      "CPU times: total: 0 ns\n",
      "Wall time: 0 ns\n"
     ]
    }
   ],
   "source": [
    "%%time\n",
    "# own - init\n",
    "ct = ClassifierTree(min_samples=3, criterion=\"gini\", effective_features=X_train_ordinal.shape[1])"
   ]
  },
  {
   "cell_type": "code",
   "execution_count": 27,
   "id": "2a3c17f5",
   "metadata": {},
   "outputs": [
    {
     "name": "stdout",
     "output_type": "stream",
     "text": [
      "CPU times: total: 18.1 s\n",
      "Wall time: 18.5 s\n"
     ]
    },
    {
     "data": {
      "text/plain": [
       "<dec_tree.ClassifierTree at 0x183f35353a0>"
      ]
     },
     "execution_count": 27,
     "metadata": {},
     "output_type": "execute_result"
    }
   ],
   "source": [
    "%%time\n",
    "# own - fit\n",
    "# kinds are all num, then all cat because of ColumnTransformer order\n",
    "kinds = [NUM_KIND] * len(num_vars) + [CAT_KIND] * len(cat_vars)\n",
    "\n",
    "ct.fit(X_train_ordinal, y_train, kinds=kinds)"
   ]
  },
  {
   "cell_type": "code",
   "execution_count": 28,
   "id": "4c90aee8",
   "metadata": {},
   "outputs": [
    {
     "name": "stdout",
     "output_type": "stream",
     "text": [
      "CPU times: total: 953 ms\n",
      "Wall time: 931 ms\n"
     ]
    }
   ],
   "source": [
    "%%time\n",
    "# own - predict\n",
    "y_hat_ct = ct.predict(X_test_ordinal)"
   ]
  },
  {
   "cell_type": "markdown",
   "id": "1cef7c1b",
   "metadata": {},
   "source": [
    "## Model comparison\n",
    "\n",
    "Using:\n",
    "\n",
    "* F1-score\n",
    "* ROC-AUC\n",
    "\n",
    "As this is a binary classification problem (model supports multiclass classification though)."
   ]
  },
  {
   "cell_type": "code",
   "execution_count": 32,
   "id": "600ddeb9",
   "metadata": {},
   "outputs": [
    {
     "name": "stdout",
     "output_type": "stream",
     "text": [
      "Name\t\t\tF1-score\tROC AUC score\n",
      "SK-Learn\t\t0.5433\t\t0.7074\n",
      "Own Tree\t\t0.5378\t\t0.7037\n"
     ]
    }
   ],
   "source": [
    "models = [dtc, ct]\n",
    "names = [\"SK-Learn\", \"Own Tree\"]\n",
    "preds = [y_hat_dtc, y_hat_ct]\n",
    "\n",
    "print(f\"Name\\t\\t\\tF1-score\\tROC AUC score\")\n",
    "for model, name, pred in zip(models,names, preds):\n",
    "    f1 = f1_score(y_test, pred)\n",
    "    auc = roc_auc_score(y_test, pred)\n",
    "    print(f\"{name}\\t\\t{f1:.4f}\\t\\t{auc:.4f}\")"
   ]
  },
  {
   "cell_type": "markdown",
   "id": "900b2b3d",
   "metadata": {},
   "source": [
    "Some insights on the custom model:\n",
    "* Performs almost exactly the same as the mainstream library implementation\n",
    "* Can easily be modified (through `effective_features` and `min_samples`) for Forests and Boosting configurations\n",
    "* The custom Classification model is indeed slower due to several reasons:\n",
    "    * It uses exact matching for categorical features whenever cardinality drops below a certain threshold (which is better than One-Hot encoding)\n",
    "    * It's not really optimized and only some parts are Numba-compiled vs. a highly-optimized, CPython-compiled implementation\n",
    "* Has out-of-the-box support for categorical features and multi-class classification problems, they only need to be ordinal-encoded so that they fit in a NumPy array\n",
    "* It even has multiple strategies for categorical features, and can easily be expanded with others"
   ]
  }
 ],
 "metadata": {
  "kernelspec": {
   "display_name": "Python 3 (ipykernel)",
   "language": "python",
   "name": "python3"
  },
  "language_info": {
   "codemirror_mode": {
    "name": "ipython",
    "version": 3
   },
   "file_extension": ".py",
   "mimetype": "text/x-python",
   "name": "python",
   "nbconvert_exporter": "python",
   "pygments_lexer": "ipython3",
   "version": "3.8.13"
  }
 },
 "nbformat": 4,
 "nbformat_minor": 5
}
